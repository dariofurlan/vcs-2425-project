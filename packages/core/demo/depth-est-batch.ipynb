{
 "cells": [
  {
   "cell_type": "markdown",
   "id": "19956c86",
   "metadata": {},
   "source": [
    "## Load Marigold Pipeline"
   ]
  },
  {
   "cell_type": "code",
   "execution_count": 4,
   "id": "bf46603a",
   "metadata": {},
   "outputs": [
    {
     "data": {
      "application/vnd.jupyter.widget-view+json": {
       "model_id": "ad68a50b2ac842b7a3850665af12e790",
       "version_major": 2,
       "version_minor": 0
      },
      "text/plain": [
       "Loading pipeline components...:   0%|          | 0/5 [00:00<?, ?it/s]"
      ]
     },
     "metadata": {},
     "output_type": "display_data"
    }
   ],
   "source": [
    "import diffusers\n",
    "import torch\n",
    "from diffusers.models.attention_processor import AttnProcessor2_0\n",
    "\n",
    "\n",
    "device = \"cuda\" if torch.cuda.is_available() else \"cpu\"\n",
    "\n",
    "pipe = diffusers.MarigoldDepthPipeline.from_pretrained(\n",
    "    \"prs-eth/marigold-depth-v1-1\", variant=\"fp16\", torch_dtype=torch.float16 # commented this to make it run smoothly on Apple Silicon M1+\n",
    ").to(device)\n",
    "\n",
    "# pipe.vae = torch.compile(pipe.vae, mode=\"reduce-overhead\", fullgraph=True)\n",
    "# pipe.unet = torch.compile(pipe.unet, mode=\"reduce-overhead\", fullgraph=True)"
   ]
  },
  {
   "cell_type": "markdown",
   "id": "34297c11",
   "metadata": {},
   "source": [
    "Compile to speed up the pipeline and reduce memory usage.\n"
   ]
  },
  {
   "cell_type": "code",
   "execution_count": 5,
   "id": "b2f3ea1c",
   "metadata": {},
   "outputs": [
    {
     "name": "stdout",
     "output_type": "stream",
     "text": [
      "1 images to process\n"
     ]
    }
   ],
   "source": [
    "import os\n",
    "from PIL import Image\n",
    "\n",
    "input_folder = \"image-net/ILSVRC2012_img_val\"\n",
    "output_folder = \"image-net-depth/ILSVRC2012_img_val\"\n",
    "image_files = [f for f in os.listdir(input_folder) if f.endswith(('.jpg', '.jpeg', '.JPEG', '.JPG'))]\n",
    "\n",
    "image_files.sort()\n",
    "\n",
    "start_from = 49999\n",
    "end_at = 50001\n",
    "\n",
    "print(len(image_files[start_from:end_at]), \"images to process\")"
   ]
  },
  {
   "cell_type": "code",
   "execution_count": 6,
   "id": "dcb18cc3",
   "metadata": {},
   "outputs": [
    {
     "data": {
      "application/vnd.jupyter.widget-view+json": {
       "model_id": "ab080c3e86a644b5a59441e514e6680e",
       "version_major": 2,
       "version_minor": 0
      },
      "text/plain": [
       "Processing images:   0%|          | 0/2 [00:00<?, ?it/s]"
      ]
     },
     "metadata": {},
     "output_type": "display_data"
    },
    {
     "ename": "IndexError",
     "evalue": "list index out of range",
     "output_type": "error",
     "traceback": [
      "\u001b[0;31m---------------------------------------------------------------------------\u001b[0m",
      "\u001b[0;31mIndexError\u001b[0m                                Traceback (most recent call last)",
      "Cell \u001b[0;32mIn[6], line 6\u001b[0m\n\u001b[1;32m      3\u001b[0m pipe\u001b[38;5;241m.\u001b[39mset_progress_bar_config(disable\u001b[38;5;241m=\u001b[39m\u001b[38;5;28;01mTrue\u001b[39;00m)\n\u001b[1;32m      5\u001b[0m \u001b[38;5;28;01mfor\u001b[39;00m n \u001b[38;5;129;01min\u001b[39;00m tqdm(\u001b[38;5;28mrange\u001b[39m(start_from, end_at), desc\u001b[38;5;241m=\u001b[39m\u001b[38;5;124m\"\u001b[39m\u001b[38;5;124mProcessing images\u001b[39m\u001b[38;5;124m\"\u001b[39m):\n\u001b[0;32m----> 6\u001b[0m     image_path \u001b[38;5;241m=\u001b[39m os\u001b[38;5;241m.\u001b[39mpath\u001b[38;5;241m.\u001b[39mjoin(input_folder, \u001b[43mimage_files\u001b[49m\u001b[43m[\u001b[49m\u001b[43mn\u001b[49m\u001b[43m]\u001b[49m)\n\u001b[1;32m      7\u001b[0m     image \u001b[38;5;241m=\u001b[39m Image\u001b[38;5;241m.\u001b[39mopen(image_path)\n\u001b[1;32m      8\u001b[0m     \u001b[38;5;66;03m# Ensure the image is in RGB mode\u001b[39;00m\n",
      "\u001b[0;31mIndexError\u001b[0m: list index out of range"
     ]
    }
   ],
   "source": [
    "from tqdm.auto import tqdm\n",
    "\n",
    "pipe.set_progress_bar_config(disable=True)\n",
    "\n",
    "for n in tqdm(range(start_from, end_at), desc=\"Processing images\"):\n",
    "    image_path = os.path.join(input_folder, image_files[n])\n",
    "    image = Image.open(image_path)\n",
    "    # Ensure the image is in RGB mode\n",
    "    if image.mode != 'RGB':\n",
    "        image = image.convert('RGB')\n",
    "    depth = pipe(image)\n",
    "    visualized_depth = pipe.image_processor.export_depth_to_16bit_png(depth.prediction[0])\n",
    "    visualized_depth[0].save(os.path.join(output_folder, f\"ILSVRC2012_val_{n:08d}.png\"))\n",
    "    "
   ]
  }
 ],
 "metadata": {
  "kernelspec": {
   "display_name": ".venv",
   "language": "python",
   "name": "python3"
  },
  "language_info": {
   "codemirror_mode": {
    "name": "ipython",
    "version": 3
   },
   "file_extension": ".py",
   "mimetype": "text/x-python",
   "name": "python",
   "nbconvert_exporter": "python",
   "pygments_lexer": "ipython3",
   "version": "3.11.2"
  }
 },
 "nbformat": 4,
 "nbformat_minor": 5
}
