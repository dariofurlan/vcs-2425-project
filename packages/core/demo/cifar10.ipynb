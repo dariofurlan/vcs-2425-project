{
 "cells": [
  {
   "cell_type": "code",
   "execution_count": 8,
   "id": "d588a313",
   "metadata": {},
   "outputs": [
    {
     "name": "stderr",
     "output_type": "stream",
     "text": [
      "/var/folders/v2/w7vjsgyj1kqdp4fm9gjnszx00000gn/T/ipykernel_77950/2015753856.py:13: DeprecationWarning: Python 3.14 will, by default, filter extracted tar archives and reject files or modify their metadata. Use the filter argument to control this behavior.\n",
      "  tar.extractall()  # Extracts to current directory\n"
     ]
    }
   ],
   "source": [
    "import urllib.request\n",
    "import tarfile\n",
    "\n",
    "# URL of the dataset\n",
    "url = \"https://www.cs.toronto.edu/~kriz/cifar-10-python.tar.gz\"\n",
    "filename = \"cifar-10-python.tar.gz\"\n",
    "\n",
    "# Download the dataset\n",
    "urllib.request.urlretrieve(url, filename)\n",
    "\n",
    "# Extract the tar.gz file\n",
    "with tarfile.open(filename, \"r:gz\") as tar:\n",
    "    tar.extractall()  # Extracts to current directory"
   ]
  },
  {
   "cell_type": "code",
   "execution_count": 1,
   "id": "c37e5eee",
   "metadata": {},
   "outputs": [
    {
     "name": "stdout",
     "output_type": "stream",
     "text": [
      "dict_keys([b'batch_label', b'labels', b'data', b'filenames'])\n"
     ]
    }
   ],
   "source": [
    "import pickle\n",
    "\n",
    "# Function to load a CIFAR-10 batch\n",
    "def load_cifar10_batch(file_path):\n",
    "    with open(file_path, 'rb') as file:\n",
    "        data_dict = pickle.load(file, encoding='bytes')\n",
    "    return data_dict\n",
    "\n",
    "# Load the first batch\n",
    "data_batch_1 = load_cifar10_batch('cifar-10-batches-py/data_batch_1')\n",
    "\n",
    "# Inspect the keys in the loaded batch\n",
    "print(data_batch_1.keys())"
   ]
  },
  {
   "cell_type": "markdown",
   "id": "e867716d",
   "metadata": {},
   "source": [
    "# Data batch format\n",
    "\n",
    "data_batch_1 will have 4 colummn\n",
    "\n",
    "- batch_label: b'training batch 1 of 5'\n",
    "- labels: 10000 elements array of numbers from 0 to 9 representing a label (batches.meta.txt)\n",
    "- data: 10000x3072 np array of uint8\n",
    "- filenames: 10000 elements array of the filenames of each sample\n",
    "\n",
    "Loaded in this way, each of the batch files contains a dictionary with the following elements:\n",
    "- data -- a 10000x3072 numpy array of uint8s. Each row of the array stores a 32x32 colour image. The first 1024 entries contain the red channel values, the next 1024 the green, and the final 1024 the blue. The image is stored in row-major order, so that the first 32 entries of the array are the red channel values of the first row of the image.\n",
    "- labels -- a list of 10000 numbers in the range 0-9. The number at index i indicates the label of the ith image in the array data.\n"
   ]
  },
  {
   "cell_type": "code",
   "execution_count": 2,
   "id": "8b6e9e2b",
   "metadata": {},
   "outputs": [],
   "source": [
    "def reshape(data):\n",
    "    return data.reshape(3, 32, 32).transpose(1, 2, 0)"
   ]
  },
  {
   "cell_type": "code",
   "execution_count": 3,
   "id": "0f077a5d",
   "metadata": {},
   "outputs": [
    {
     "data": {
      "image/png": "[encoded data removed]",
      "text/plain": [
       "<Figure size 640x480 with 1 Axes>"
      ]
     },
     "metadata": {},
     "output_type": "display_data"
    }
   ],
   "source": [
    "import matplotlib.pyplot as plt\n",
    "\n",
    "# Reshape the first image data to 32x32x3\n",
    "first_image = reshape(data_batch_1[b\"data\"][0])\n",
    "\n",
    "# Display the image\n",
    "plt.imshow(first_image)\n",
    "plt.title(\"First Image\")\n",
    "plt.axis(\"off\")\n",
    "plt.show()"
   ]
  },
  {
   "cell_type": "code",
   "execution_count": null,
   "id": "0a74d2f2",
   "metadata": {},
   "outputs": [
    {
     "data": {
      "application/vnd.jupyter.widget-view+json": {
       "model_id": "31cb6c3c72ca4f0abd48415b1cd46f90",
       "version_major": 2,
       "version_minor": 0
      },
      "text/plain": [
       "Loading pipeline components...:   0%|          | 0/5 [00:00<?, ?it/s]"
      ]
     },
     "metadata": {},
     "output_type": "display_data"
    }
   ],
   "source": [
    "import diffusers\n",
    "import torch\n",
    "from diffusers.models.attention_processor import AttnProcessor2_0\n",
    "from tqdm.auto import tqdm\n",
    "\n",
    "device = \"cuda\" if torch.cuda.is_available() else \"cpu\"\n",
    "\n",
    "pipe = diffusers.MarigoldDepthPipeline.from_pretrained(\n",
    "    \"prs-eth/marigold-depth-v1-1\", variant=\"fp16\",\n",
    ").to(device)"
   ]
  },
  {
   "cell_type": "code",
   "execution_count": 5,
   "id": "b5e8e8a4",
   "metadata": {},
   "outputs": [
    {
     "data": {
      "application/vnd.jupyter.widget-view+json": {
       "model_id": "3b640ba243fd4f5f839bbd1c4cf72b98",
       "version_major": 2,
       "version_minor": 0
      },
      "text/plain": [
       "Marigold predictions...:   0%|          | 0/1 [00:00<?, ?it/s]"
      ]
     },
     "metadata": {},
     "output_type": "display_data"
    },
    {
     "data": {
      "application/vnd.jupyter.widget-view+json": {
       "model_id": "b2f725f1243b461f9e5f3422bec7d5b4",
       "version_major": 2,
       "version_minor": 0
      },
      "text/plain": [
       "Diffusion steps...:   0%|          | 0/5 [00:00<?, ?it/s]"
      ]
     },
     "metadata": {},
     "output_type": "display_data"
    }
   ],
   "source": [
    "depth_est = pipe(first_image, num_inference_steps=5)"
   ]
  },
  {
   "cell_type": "code",
   "execution_count": 6,
   "id": "3bf871eb",
   "metadata": {},
   "outputs": [
    {
     "data": {
      "image/png": "[encoded data removed]",
      "text/plain": [
       "<Figure size 640x480 with 1 Axes>"
      ]
     },
     "metadata": {},
     "output_type": "display_data"
    }
   ],
   "source": [
    "plt.imshow(depth_est.prediction[0])\n",
    "plt.title(\"Depth Estimation\")\n",
    "plt.axis(\"off\")\n",
    "plt.show()"
   ]
  }
 ],
 "metadata": {
  "kernelspec": {
   "display_name": ".env (3.13.2)",
   "language": "python",
   "name": "python3"
  },
  "language_info": {
   "codemirror_mode": {
    "name": "ipython",
    "version": 3
   },
   "file_extension": ".py",
   "mimetype": "text/x-python",
   "name": "python",
   "nbconvert_exporter": "python",
   "pygments_lexer": "ipython3",
   "version": "3.13.2"
  }
 },
 "nbformat": 4,
 "nbformat_minor": 5
}
