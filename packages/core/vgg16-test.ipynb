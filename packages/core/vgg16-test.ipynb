{
 "cells": [
  {
   "cell_type": "code",
   "execution_count": 21,
   "id": "3d98f67f",
   "metadata": {},
   "outputs": [
    {
     "name": "stdout",
     "output_type": "stream",
     "text": [
      "Baseline results: ['picket fence', 'worm fence', 'patio', 'mobile home', 'pot']\n",
      "viridis results: ['stage', 'spotlight', 'picket fence', 'scuba diver', 'screen']\n",
      "Spectral results: ['picket fence', 'shower curtain', 'stage', 'theater curtain', 'digital clock']\n",
      "plasma results: ['stage', 'spotlight', 'theater curtain', 'screen', 'traffic light']\n",
      "gray results: ['picket fence', 'window screen', 'bannister', 'window shade', 'prison']\n",
      "Accuracy comparison: {'viridis': 20.0, 'Spectral': 20.0, 'plasma': 0.0, 'gray': 20.0}\n"
     ]
    }
   ],
   "source": [
    "import torch\n",
    "from PIL import Image\n",
    "from torchvision.models import vgg\n",
    "\n",
    "import torchvision.models as models\n",
    "import torchvision.transforms as transforms\n",
    "\n",
    "# Load the pre-trained VGG-16 model\n",
    "vgg16 = models.vgg16(pretrained=True)\n",
    "vgg16.eval()  # Set the model to evaluation mode\n",
    "\n",
    "# Define the image transformation pipeline\n",
    "transform = transforms.Compose([\n",
    "    transforms.Resize((224, 224)),  # Resize the image to 224x224\n",
    "    transforms.ToTensor(),  # Convert the image to a PyTorch tensor\n",
    "    transforms.Normalize(mean=[0.485, 0.456, 0.406], std=[0.229, 0.224, 0.225])  # Normalize the image\n",
    "])\n",
    "\n",
    "def infer(image_path, K=5):\n",
    "    image = Image.open(image_path).convert('RGB')  # Ensure the image is in RGB format\n",
    "    input_tensor = transform(image).unsqueeze(0)  # Add a batch dimension\n",
    "\n",
    "    # Perform inference\n",
    "    with torch.no_grad():\n",
    "        outputs = vgg16(input_tensor)\n",
    "        probabilities = torch.nn.functional.softmax(outputs, dim=1)\n",
    "        top_k_probs, top_k_indices = torch.topk(probabilities, K)\n",
    "\n",
    "    # Load the class labels\n",
    "    class_labels = vgg.VGG16_Weights.IMAGENET1K_V1.meta[\"categories\"]\n",
    "    \n",
    "    # Return just the top K labels\n",
    "    return [class_labels[idx] for idx in top_k_indices[0]]\n",
    "\n",
    "original_image = \"image.png\"\n",
    "colormaps = ['viridis', 'Spectral', 'plasma', 'gray']\n",
    "\n",
    "# Baseline inference on the original image\n",
    "baseline_results = infer(original_image)\n",
    "print(\"Baseline results:\", baseline_results)\n",
    "\n",
    "# Compare each depth_est_[colormap] to the baseline\n",
    "accuracy_comparison = {}\n",
    "for colormap in colormaps:\n",
    "    depth_image_path = f\"depth_est_{colormap}.png\"\n",
    "    depth_results = infer(depth_image_path)\n",
    "    \n",
    "    print(f\"{colormap} results:\", depth_results)\n",
    "    \n",
    "    # Calculate accuracy as the number of correct predictions for the top K labels\n",
    "    accuracy = sum(1 for label in depth_results if label in baseline_results) / len(depth_results) * 100\n",
    "    \n",
    "    accuracy_comparison[colormap] = accuracy\n",
    "\n",
    "print(\"Accuracy comparison:\", accuracy_comparison)"
   ]
  }
 ],
 "metadata": {
  "kernelspec": {
   "display_name": ".venv",
   "language": "python",
   "name": "python3"
  },
  "language_info": {
   "codemirror_mode": {
    "name": "ipython",
    "version": 3
   },
   "file_extension": ".py",
   "mimetype": "text/x-python",
   "name": "python",
   "nbconvert_exporter": "python",
   "pygments_lexer": "ipython3",
   "version": "3.11.2"
  }
 },
 "nbformat": 4,
 "nbformat_minor": 5
}
