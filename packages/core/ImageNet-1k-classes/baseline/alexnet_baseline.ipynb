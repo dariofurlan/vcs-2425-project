{
 "cells": [
  {
   "cell_type": "code",
   "execution_count": 1,
   "metadata": {
    "id": "VmXnXRuu0yPY"
   },
   "outputs": [],
   "source": [
    "import torch\n",
    "from torchvision import transforms, models\n",
    "import torch.nn as nn\n",
    "from torch.utils.data import DataLoader\n",
    "import random\n",
    "from tqdm import tqdm\n",
    "from vcs2425 import ApplyColormap, evaluate_topk, load_dataset_splits\n",
    "\n",
    "# 1. Reproducibility\n",
    "SEED = 42\n",
    "random.seed(SEED)\n",
    "torch.manual_seed(SEED)\n",
    "\n",
    "# 2. Device\n",
    "device = torch.device(\"cuda\" if torch.cuda.is_available() else \"cpu\")\n",
    "\n",
    "color_map_transform = ApplyColormap(cmap='viridis')\n",
    "\n",
    "# 3. Transforms\n",
    "train_transform = transforms.Compose([\n",
    "    transforms.Resize((256, 256), interpolation=transforms.InterpolationMode.BILINEAR),\n",
    "    transforms.CenterCrop((224, 224)),\n",
    "    color_map_transform,\n",
    "    transforms.ToTensor(),\n",
    "    transforms.Normalize(mean=[0.485, 0.456, 0.406],\n",
    "                         std=[0.229, 0.224, 0.225])\n",
    "])\n",
    "\n",
    "val_transform = transforms.Compose([\n",
    "    transforms.Resize((256, 256), interpolation=transforms.InterpolationMode.BILINEAR),\n",
    "    transforms.CenterCrop((224, 224)),\n",
    "    color_map_transform,\n",
    "    transforms.ToTensor(),\n",
    "    transforms.Normalize(mean=[0.485, 0.456, 0.406],\n",
    "                         std=[0.229, 0.224, 0.225])\n",
    "])"
   ]
  },
  {
   "cell_type": "code",
   "execution_count": null,
   "metadata": {
    "colab": {
     "base_uri": "https://localhost:8080/"
    },
    "id": "Ms2OxapHC4kX",
    "outputId": "81d7871c-a7b0-4415-db26-9d8889495325"
   },
   "outputs": [],
   "source": [
    "# 4. Load full dataset\n",
    "_, val_dataset = load_dataset_splits('../../ILSVRC2012_depth', train_transform, val_transform)\n",
    "\n",
    "BATCH_SIZE = 256\n",
    "\n",
    "# 7. DataLoaders\n",
    "val_loader = DataLoader(\n",
    "    val_dataset,\n",
    "    batch_size=BATCH_SIZE, \n",
    "    shuffle=False,\n",
    ")"
   ]
  },
  {
   "cell_type": "markdown",
   "metadata": {},
   "source": [
    "# Evaluating \"as-is\""
   ]
  },
  {
   "cell_type": "code",
   "execution_count": 3,
   "metadata": {},
   "outputs": [
    {
     "data": {
      "text/plain": [
       "AlexNet(\n",
       "  (features): Sequential(\n",
       "    (0): Conv2d(3, 64, kernel_size=(11, 11), stride=(4, 4), padding=(2, 2))\n",
       "    (1): ReLU(inplace=True)\n",
       "    (2): MaxPool2d(kernel_size=3, stride=2, padding=0, dilation=1, ceil_mode=False)\n",
       "    (3): Conv2d(64, 192, kernel_size=(5, 5), stride=(1, 1), padding=(2, 2))\n",
       "    (4): ReLU(inplace=True)\n",
       "    (5): MaxPool2d(kernel_size=3, stride=2, padding=0, dilation=1, ceil_mode=False)\n",
       "    (6): Conv2d(192, 384, kernel_size=(3, 3), stride=(1, 1), padding=(1, 1))\n",
       "    (7): ReLU(inplace=True)\n",
       "    (8): Conv2d(384, 256, kernel_size=(3, 3), stride=(1, 1), padding=(1, 1))\n",
       "    (9): ReLU(inplace=True)\n",
       "    (10): Conv2d(256, 256, kernel_size=(3, 3), stride=(1, 1), padding=(1, 1))\n",
       "    (11): ReLU(inplace=True)\n",
       "    (12): MaxPool2d(kernel_size=3, stride=2, padding=0, dilation=1, ceil_mode=False)\n",
       "  )\n",
       "  (avgpool): AdaptiveAvgPool2d(output_size=(6, 6))\n",
       "  (classifier): Sequential(\n",
       "    (0): Dropout(p=0.5, inplace=False)\n",
       "    (1): Linear(in_features=9216, out_features=4096, bias=True)\n",
       "    (2): ReLU(inplace=True)\n",
       "    (3): Dropout(p=0.5, inplace=False)\n",
       "    (4): Linear(in_features=4096, out_features=4096, bias=True)\n",
       "    (5): ReLU(inplace=True)\n",
       "    (6): Linear(in_features=4096, out_features=1000, bias=True)\n",
       "  )\n",
       ")"
      ]
     },
     "execution_count": 3,
     "metadata": {},
     "output_type": "execute_result"
    }
   ],
   "source": [
    "model = models.alexnet(weights=models.AlexNet_Weights.IMAGENET1K_V1)\n",
    "\n",
    "model.to(device)"
   ]
  },
  {
   "cell_type": "code",
   "execution_count": 4,
   "metadata": {},
   "outputs": [
    {
     "name": "stderr",
     "output_type": "stream",
     "text": [
      "Evaluating on different colormaps:  17%|█▋        | 1/6 [01:23<06:55, 83.10s/it]"
     ]
    },
    {
     "name": "stdout",
     "output_type": "stream",
     "text": [
      "Colormap: stacked, Top-1 Accuracy: 0.0453, Top-5 Accuracy: 0.1163\n"
     ]
    },
    {
     "name": "stderr",
     "output_type": "stream",
     "text": [
      "Evaluating on different colormaps:  33%|███▎      | 2/6 [03:01<06:08, 92.03s/it]"
     ]
    },
    {
     "name": "stdout",
     "output_type": "stream",
     "text": [
      "Colormap: gray, Top-1 Accuracy: 0.0450, Top-5 Accuracy: 0.1162\n"
     ]
    },
    {
     "name": "stderr",
     "output_type": "stream",
     "text": [
      "Evaluating on different colormaps:  50%|█████     | 3/6 [04:37<04:42, 94.08s/it]"
     ]
    },
    {
     "name": "stdout",
     "output_type": "stream",
     "text": [
      "Colormap: viridis, Top-1 Accuracy: 0.0104, Top-5 Accuracy: 0.0383\n"
     ]
    },
    {
     "name": "stderr",
     "output_type": "stream",
     "text": [
      "Evaluating on different colormaps:  67%|██████▋   | 4/6 [06:12<03:08, 94.32s/it]"
     ]
    },
    {
     "name": "stdout",
     "output_type": "stream",
     "text": [
      "Colormap: plasma, Top-1 Accuracy: 0.0124, Top-5 Accuracy: 0.0398\n"
     ]
    },
    {
     "name": "stderr",
     "output_type": "stream",
     "text": [
      "Evaluating on different colormaps:  83%|████████▎ | 5/6 [07:47<01:34, 94.57s/it]"
     ]
    },
    {
     "name": "stdout",
     "output_type": "stream",
     "text": [
      "Colormap: magma, Top-1 Accuracy: 0.0254, Top-5 Accuracy: 0.0759\n"
     ]
    },
    {
     "name": "stderr",
     "output_type": "stream",
     "text": [
      "Evaluating on different colormaps: 100%|██████████| 6/6 [09:24<00:00, 94.12s/it]"
     ]
    },
    {
     "name": "stdout",
     "output_type": "stream",
     "text": [
      "Colormap: Spectral, Top-1 Accuracy: 0.0155, Top-5 Accuracy: 0.0467\n"
     ]
    },
    {
     "name": "stderr",
     "output_type": "stream",
     "text": [
      "\n"
     ]
    }
   ],
   "source": [
    "top_1s = []\n",
    "top_5s = []\n",
    "\n",
    "colormaps = ['stacked', 'gray', 'viridis', 'plasma', 'magma', 'Spectral']\n",
    "criterion = nn.CrossEntropyLoss()\n",
    "\n",
    "for cmap in tqdm(colormaps, desc=\"Evaluating on different colormaps\"):\n",
    "    color_map_transform.cmap = cmap\n",
    "\n",
    "    top_1 = evaluate_topk(model, val_loader, k=1, device=device)\n",
    "    top_5 = evaluate_topk(model, val_loader, k=5, device=device)\n",
    "    \n",
    "    top_1s.append(top_1)\n",
    "    top_5s.append(top_5)\n",
    "    \n",
    "    print(f\"Colormap: {cmap}, Top-1 Accuracy: {top_1:.4f}, Top-5 Accuracy: {top_5:.4f}\")\n",
    "\n"
   ]
  },
  {
   "cell_type": "code",
   "execution_count": 5,
   "metadata": {},
   "outputs": [
    {
     "data": {
      "image/png": "[encoded data removed]",
      "text/plain": [
       "<Figure size 1200x600 with 1 Axes>"
      ]
     },
     "metadata": {},
     "output_type": "display_data"
    }
   ],
   "source": [
    "import numpy as np\n",
    "import matplotlib.pyplot as plt\n",
    "\n",
    "# Create a figure for the grid\n",
    "fig, ax = plt.subplots(figsize=(12, 6))\n",
    "\n",
    "# Set up bar width and positions\n",
    "x = np.arange(len(colormaps))\n",
    "width = 0.35\n",
    "\n",
    "# Create bars\n",
    "rects1 = ax.bar(x - width/2, top_1s, width, label='Top-1 Accuracy')\n",
    "rects2 = ax.bar(x + width/2, top_5s, width, label='Top-5 Accuracy')\n",
    "\n",
    "# Add labels, title and legend\n",
    "ax.set_xlabel('Colormap')\n",
    "ax.set_ylabel('Accuracy')\n",
    "ax.set_title('Top-1 and Top-5 Accuracies by Colormap')\n",
    "ax.set_xticks(x)\n",
    "ax.set_xticklabels(colormaps)\n",
    "ax.legend()\n",
    "\n",
    "# Add text labels on top of bars\n",
    "def autolabel(rects):\n",
    "    for rect in rects:\n",
    "        height = rect.get_height()\n",
    "        ax.annotate(f'{height:.3f}',\n",
    "                    xy=(rect.get_x() + rect.get_width() / 2, height),\n",
    "                    xytext=(0, 3),  # 3 points vertical offset\n",
    "                    textcoords=\"offset points\",\n",
    "                    ha='center', va='bottom')\n",
    "\n",
    "autolabel(rects1)\n",
    "autolabel(rects2)\n",
    "\n",
    "fig.tight_layout()\n",
    "plt.show()"
   ]
  }
 ],
 "metadata": {
  "accelerator": "GPU",
  "colab": {
   "gpuType": "T4",
   "provenance": []
  },
  "kernelspec": {
   "display_name": "vcs-2425",
   "language": "python",
   "name": "python3"
  },
  "language_info": {
   "codemirror_mode": {
    "name": "ipython",
    "version": 3
   },
   "file_extension": ".py",
   "mimetype": "text/x-python",
   "name": "python",
   "nbconvert_exporter": "python",
   "pygments_lexer": "ipython3",
   "version": "3.11.12"
  }
 },
 "nbformat": 4,
 "nbformat_minor": 0
}
