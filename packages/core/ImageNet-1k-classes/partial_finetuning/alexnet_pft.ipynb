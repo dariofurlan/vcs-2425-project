{
 "cells": [
  {
   "cell_type": "code",
   "execution_count": 1,
   "metadata": {
    "id": "VmXnXRuu0yPY"
   },
   "outputs": [],
   "source": [
    "import torch\n",
    "from torchvision import transforms, models\n",
    "import torch.nn as nn\n",
    "from torch.utils.data import DataLoader\n",
    "from torch.optim import Adam\n",
    "from torch.optim.lr_scheduler import ReduceLROnPlateau\n",
    "import random\n",
    "from vcs2425 import ApplyColormap, train, evaluate, evaluate_topk, plot_training_curves, load_dataset_splits\n",
    "import time\n",
    "\n",
    "# 1. Reproducibility\n",
    "SEED = 42\n",
    "random.seed(SEED)\n",
    "torch.manual_seed(SEED)\n",
    "\n",
    "# 2. Device\n",
    "device = torch.device(\"cuda\" if torch.cuda.is_available() else \"cpu\")"
   ]
  },
  {
   "cell_type": "code",
   "execution_count": 2,
   "metadata": {},
   "outputs": [],
   "source": [
    "COLOR_MAP = 'stacked'\n",
    "\n",
    "# 3. Transforms\n",
    "train_transform = transforms.Compose([\n",
    "    transforms.Resize((256, 256), interpolation=transforms.InterpolationMode.BILINEAR),\n",
    "    transforms.RandomCrop((224, 224)),\n",
    "    transforms.RandomHorizontalFlip(p=0.5),\n",
    "    transforms.RandomRotation(degrees=15),\n",
    "    ApplyColormap(cmap=COLOR_MAP),\n",
    "    transforms.ToTensor(),\n",
    "    transforms.Normalize(mean=[0.485, 0.456, 0.406],\n",
    "                         std=[0.229, 0.224, 0.225])\n",
    "])\n",
    "\n",
    "val_transform = transforms.Compose([\n",
    "    transforms.Resize((256, 256), interpolation=transforms.InterpolationMode.BILINEAR),\n",
    "    transforms.CenterCrop((224, 224)),\n",
    "    ApplyColormap(cmap=COLOR_MAP),\n",
    "    transforms.ToTensor(),\n",
    "    transforms.Normalize(mean=[0.485, 0.456, 0.406],\n",
    "                         std=[0.229, 0.224, 0.225])\n",
    "])"
   ]
  },
  {
   "cell_type": "code",
   "execution_count": 3,
   "metadata": {
    "colab": {
     "base_uri": "https://localhost:8080/"
    },
    "id": "Ms2OxapHC4kX",
    "outputId": "81d7871c-a7b0-4415-db26-9d8889495325"
   },
   "outputs": [],
   "source": [
    "# 4. Load full dataset\n",
    "train_dataset, val_dataset = load_dataset_splits('../../ILSVRC2012_depth', train_transform, val_transform)\n",
    "\n",
    "BATCH_SIZE = 256\n",
    "\n",
    "# 7. DataLoaders\n",
    "train_loader = DataLoader(\n",
    "    train_dataset, \n",
    "    batch_size=BATCH_SIZE, \n",
    "    shuffle=True, \n",
    "    num_workers=8,\n",
    "    pin_memory=True,  # Better memory management\n",
    "    persistent_workers=True  # Keep workers alive between iterations\n",
    ")\n",
    "val_loader = DataLoader(\n",
    "    val_dataset,\n",
    "    batch_size=BATCH_SIZE, \n",
    "    shuffle=False,\n",
    "    num_workers=8,\n",
    "    pin_memory=True,  # Better memory management\n",
    "    persistent_workers=True  # Keep workers alive between iterations\n",
    ")"
   ]
  },
  {
   "cell_type": "markdown",
   "metadata": {},
   "source": [
    "# Training\n",
    "\n",
    "\n",
    "We are going to train only the classifier"
   ]
  },
  {
   "cell_type": "code",
   "execution_count": 4,
   "metadata": {},
   "outputs": [
    {
     "data": {
      "text/plain": [
       "AlexNet(\n",
       "  (features): Sequential(\n",
       "    (0): Conv2d(3, 64, kernel_size=(11, 11), stride=(4, 4), padding=(2, 2))\n",
       "    (1): ReLU(inplace=True)\n",
       "    (2): MaxPool2d(kernel_size=3, stride=2, padding=0, dilation=1, ceil_mode=False)\n",
       "    (3): Conv2d(64, 192, kernel_size=(5, 5), stride=(1, 1), padding=(2, 2))\n",
       "    (4): ReLU(inplace=True)\n",
       "    (5): MaxPool2d(kernel_size=3, stride=2, padding=0, dilation=1, ceil_mode=False)\n",
       "    (6): Conv2d(192, 384, kernel_size=(3, 3), stride=(1, 1), padding=(1, 1))\n",
       "    (7): ReLU(inplace=True)\n",
       "    (8): Conv2d(384, 256, kernel_size=(3, 3), stride=(1, 1), padding=(1, 1))\n",
       "    (9): ReLU(inplace=True)\n",
       "    (10): Conv2d(256, 256, kernel_size=(3, 3), stride=(1, 1), padding=(1, 1))\n",
       "    (11): ReLU(inplace=True)\n",
       "    (12): MaxPool2d(kernel_size=3, stride=2, padding=0, dilation=1, ceil_mode=False)\n",
       "  )\n",
       "  (avgpool): AdaptiveAvgPool2d(output_size=(6, 6))\n",
       "  (classifier): Sequential(\n",
       "    (0): Dropout(p=0.5, inplace=False)\n",
       "    (1): Linear(in_features=9216, out_features=4096, bias=True)\n",
       "    (2): ReLU(inplace=True)\n",
       "    (3): Dropout(p=0.5, inplace=False)\n",
       "    (4): Linear(in_features=4096, out_features=4096, bias=True)\n",
       "    (5): ReLU(inplace=True)\n",
       "    (6): Linear(in_features=4096, out_features=1000, bias=True)\n",
       "  )\n",
       ")"
      ]
     },
     "execution_count": 4,
     "metadata": {},
     "output_type": "execute_result"
    }
   ],
   "source": [
    "model = models.alexnet(weights=models.AlexNet_Weights.IMAGENET1K_V1)\n",
    "\n",
    "for param in model.features.parameters():\n",
    "    param.requires_grad = False\n",
    "    \n",
    "for param in model.classifier.parameters():\n",
    "    param.requires_grad = True\n",
    "\n",
    "model.to(device)"
   ]
  },
  {
   "cell_type": "code",
   "execution_count": 5,
   "metadata": {},
   "outputs": [
    {
     "name": "stdout",
     "output_type": "stream",
     "text": [
      "Total parameters: 61,100,840\n",
      "Trainable parameters: 58,631,144\n",
      "Frozen parameters: 2,469,696\n"
     ]
    }
   ],
   "source": [
    "# Print the number of trainable and frozen parameters\n",
    "total_params = sum(p.numel() for p in model.parameters())\n",
    "trainable_params = sum(p.numel() for p in model.parameters() if p.requires_grad)\n",
    "frozen_params = total_params - trainable_params\n",
    "\n",
    "print(f\"Total parameters: {total_params:,}\")\n",
    "print(f\"Trainable parameters: {trainable_params:,}\")\n",
    "print(f\"Frozen parameters: {frozen_params:,}\")"
   ]
  },
  {
   "cell_type": "markdown",
   "metadata": {},
   "source": [
    "# Fine Tuning Classifier\n"
   ]
  },
  {
   "cell_type": "code",
   "execution_count": 6,
   "metadata": {
    "colab": {
     "base_uri": "https://localhost:8080/"
    },
    "id": "I-myCL-Dj2qK",
    "outputId": "2181c075-1ad4-4230-f485-e85262b037b9"
   },
   "outputs": [],
   "source": [
    "LEARNING_RATE = 5e-5\n",
    "WEIGHT_DECAY = 1e-4\n",
    "REDUCE_LR_PATIENCE = 3\n",
    "REDUCE_LR_FACTOR = 0.5\n",
    "\n",
    "# 9. Loss and Optimizer\n",
    "criterion = nn.CrossEntropyLoss()\n",
    "optimizer = Adam([\n",
    "    {'params': model.classifier.parameters(), 'lr': LEARNING_RATE }\n",
    "], lr=LEARNING_RATE, weight_decay=WEIGHT_DECAY)\n",
    "scheduler = ReduceLROnPlateau(optimizer, mode='max', factor=REDUCE_LR_FACTOR, patience=REDUCE_LR_PATIENCE)"
   ]
  },
  {
   "cell_type": "code",
   "execution_count": 7,
   "metadata": {},
   "outputs": [
    {
     "name": "stderr",
     "output_type": "stream",
     "text": [
      "                                                           \r"
     ]
    },
    {
     "name": "stdout",
     "output_type": "stream",
     "text": [
      "Epoch 1/30 Time: 37.76s - \n",
      "Train Loss: 5.7780, Train Accuracy: 0.0520, Took 31.15s, \n",
      "Val Loss: 4.9803, Val Accuracy: 0.1028, Took 6.60s \n",
      "\n"
     ]
    },
    {
     "name": "stderr",
     "output_type": "stream",
     "text": [
      "                                                           \r"
     ]
    },
    {
     "name": "stdout",
     "output_type": "stream",
     "text": [
      "Epoch 2/30 Time: 32.91s - \n",
      "Train Loss: 5.0462, Train Accuracy: 0.0961, Took 26.54s, \n",
      "Val Loss: 4.7221, Val Accuracy: 0.1320, Took 6.37s \n",
      "\n"
     ]
    },
    {
     "name": "stderr",
     "output_type": "stream",
     "text": [
      "                                                           \r"
     ]
    },
    {
     "name": "stdout",
     "output_type": "stream",
     "text": [
      "Epoch 3/30 Time: 32.93s - \n",
      "Train Loss: 4.7555, Train Accuracy: 0.1184, Took 26.47s, \n",
      "Val Loss: 4.6134, Val Accuracy: 0.1420, Took 6.46s \n",
      "\n"
     ]
    },
    {
     "name": "stderr",
     "output_type": "stream",
     "text": [
      "                                                           \r"
     ]
    },
    {
     "name": "stdout",
     "output_type": "stream",
     "text": [
      "Epoch 4/30 Time: 33.27s - \n",
      "Train Loss: 4.5323, Train Accuracy: 0.1423, Took 26.88s, \n",
      "Val Loss: 4.5302, Val Accuracy: 0.1557, Took 6.39s \n",
      "\n"
     ]
    },
    {
     "name": "stderr",
     "output_type": "stream",
     "text": [
      "                                                           \r"
     ]
    },
    {
     "name": "stdout",
     "output_type": "stream",
     "text": [
      "Epoch 5/30 Time: 33.14s - \n",
      "Train Loss: 4.3630, Train Accuracy: 0.1613, Took 26.76s, \n",
      "Val Loss: 4.4862, Val Accuracy: 0.1581, Took 6.38s \n",
      "\n"
     ]
    },
    {
     "name": "stderr",
     "output_type": "stream",
     "text": [
      "                                                           \r"
     ]
    },
    {
     "name": "stdout",
     "output_type": "stream",
     "text": [
      "Epoch 6/30 Time: 32.32s - \n",
      "Train Loss: 4.1850, Train Accuracy: 0.1837, Took 25.96s, \n",
      "Val Loss: 4.4637, Val Accuracy: 0.1655, Took 6.37s \n",
      "\n"
     ]
    },
    {
     "name": "stderr",
     "output_type": "stream",
     "text": [
      "                                                           \r"
     ]
    },
    {
     "name": "stdout",
     "output_type": "stream",
     "text": [
      "Epoch 7/30 Time: 33.49s - \n",
      "Train Loss: 4.0912, Train Accuracy: 0.1932, Took 27.09s, \n",
      "Val Loss: 4.4494, Val Accuracy: 0.1700, Took 6.40s \n",
      "\n"
     ]
    },
    {
     "name": "stderr",
     "output_type": "stream",
     "text": [
      "                                                           \r"
     ]
    },
    {
     "name": "stdout",
     "output_type": "stream",
     "text": [
      "Epoch 8/30 Time: 32.45s - \n",
      "Train Loss: 3.9996, Train Accuracy: 0.2045, Took 26.02s, \n",
      "Val Loss: 4.4478, Val Accuracy: 0.1706, Took 6.43s \n",
      "\n"
     ]
    },
    {
     "name": "stderr",
     "output_type": "stream",
     "text": [
      "                                                           \r"
     ]
    },
    {
     "name": "stdout",
     "output_type": "stream",
     "text": [
      "Epoch 9/30 Time: 33.14s - \n",
      "Train Loss: 3.9501, Train Accuracy: 0.2114, Took 26.83s, \n",
      "Val Loss: 4.4290, Val Accuracy: 0.1758, Took 6.31s \n",
      "\n"
     ]
    },
    {
     "name": "stderr",
     "output_type": "stream",
     "text": [
      "                                                           \r"
     ]
    },
    {
     "name": "stdout",
     "output_type": "stream",
     "text": [
      "Epoch 10/30 Time: 32.78s - \n",
      "Train Loss: 3.8492, Train Accuracy: 0.2224, Took 26.38s, \n",
      "Val Loss: 4.4228, Val Accuracy: 0.1779, Took 6.40s \n",
      "\n"
     ]
    },
    {
     "name": "stderr",
     "output_type": "stream",
     "text": [
      "                                                           \r"
     ]
    },
    {
     "name": "stdout",
     "output_type": "stream",
     "text": [
      "Epoch 11/30 Time: 32.84s - \n",
      "Train Loss: 3.8179, Train Accuracy: 0.2312, Took 26.35s, \n",
      "Val Loss: 4.4218, Val Accuracy: 0.1790, Took 6.49s \n",
      "\n"
     ]
    },
    {
     "name": "stderr",
     "output_type": "stream",
     "text": [
      "                                                           \r"
     ]
    },
    {
     "name": "stdout",
     "output_type": "stream",
     "text": [
      "Epoch 12/30 Time: 32.62s - \n",
      "Train Loss: 3.7886, Train Accuracy: 0.2341, Took 26.22s, \n",
      "Val Loss: 4.4200, Val Accuracy: 0.1781, Took 6.40s \n",
      "\n"
     ]
    },
    {
     "name": "stderr",
     "output_type": "stream",
     "text": [
      "                                                           \r"
     ]
    },
    {
     "name": "stdout",
     "output_type": "stream",
     "text": [
      "Epoch 13/30 Time: 32.44s - \n",
      "Train Loss: 3.7527, Train Accuracy: 0.2373, Took 26.02s, \n",
      "Val Loss: 4.4237, Val Accuracy: 0.1808, Took 6.42s \n",
      "\n"
     ]
    },
    {
     "name": "stderr",
     "output_type": "stream",
     "text": [
      "                                                           \r"
     ]
    },
    {
     "name": "stdout",
     "output_type": "stream",
     "text": [
      "Epoch 14/30 Time: 33.43s - \n",
      "Train Loss: 3.6999, Train Accuracy: 0.2447, Took 27.06s, \n",
      "Val Loss: 4.4278, Val Accuracy: 0.1810, Took 6.36s \n",
      "\n"
     ]
    },
    {
     "name": "stderr",
     "output_type": "stream",
     "text": [
      "                                                           \r"
     ]
    },
    {
     "name": "stdout",
     "output_type": "stream",
     "text": [
      "Epoch 15/30 Time: 33.00s - \n",
      "Train Loss: 3.6821, Train Accuracy: 0.2460, Took 26.57s, \n",
      "Val Loss: 4.4284, Val Accuracy: 0.1811, Took 6.43s \n",
      "\n"
     ]
    },
    {
     "name": "stderr",
     "output_type": "stream",
     "text": [
      "                                                           \r"
     ]
    },
    {
     "name": "stdout",
     "output_type": "stream",
     "text": [
      "Epoch 16/30 Time: 33.23s - \n",
      "Train Loss: 3.6743, Train Accuracy: 0.2479, Took 26.36s, \n",
      "Val Loss: 4.4268, Val Accuracy: 0.1815, Took 6.87s \n",
      "\n"
     ]
    },
    {
     "name": "stderr",
     "output_type": "stream",
     "text": [
      "                                                           \r"
     ]
    },
    {
     "name": "stdout",
     "output_type": "stream",
     "text": [
      "Epoch 17/30 Time: 32.58s - \n",
      "Train Loss: 3.6443, Train Accuracy: 0.2505, Took 26.22s, \n",
      "Val Loss: 4.4297, Val Accuracy: 0.1826, Took 6.36s \n",
      "\n"
     ]
    },
    {
     "name": "stderr",
     "output_type": "stream",
     "text": [
      "                                                           \r"
     ]
    },
    {
     "name": "stdout",
     "output_type": "stream",
     "text": [
      "Epoch 18/30 Time: 33.21s - \n",
      "Train Loss: 3.6224, Train Accuracy: 0.2539, Took 26.86s, \n",
      "Val Loss: 4.4293, Val Accuracy: 0.1826, Took 6.35s \n",
      "\n"
     ]
    },
    {
     "name": "stderr",
     "output_type": "stream",
     "text": [
      "                                                           \r"
     ]
    },
    {
     "name": "stdout",
     "output_type": "stream",
     "text": [
      "Epoch 19/30 Time: 33.65s - \n",
      "Train Loss: 3.6201, Train Accuracy: 0.2562, Took 26.79s, \n",
      "Val Loss: 4.4306, Val Accuracy: 0.1825, Took 6.86s \n",
      "\n"
     ]
    },
    {
     "name": "stderr",
     "output_type": "stream",
     "text": [
      "                                                           \r"
     ]
    },
    {
     "name": "stdout",
     "output_type": "stream",
     "text": [
      "Epoch 20/30 Time: 33.86s - \n",
      "Train Loss: 3.6108, Train Accuracy: 0.2566, Took 27.23s, \n",
      "Val Loss: 4.4298, Val Accuracy: 0.1829, Took 6.64s \n",
      "\n"
     ]
    },
    {
     "name": "stderr",
     "output_type": "stream",
     "text": [
      "                                                           \r"
     ]
    },
    {
     "name": "stdout",
     "output_type": "stream",
     "text": [
      "Epoch 21/30 Time: 32.75s - \n",
      "Train Loss: 3.6118, Train Accuracy: 0.2564, Took 26.29s, \n",
      "Val Loss: 4.4307, Val Accuracy: 0.1824, Took 6.46s \n",
      "\n"
     ]
    },
    {
     "name": "stderr",
     "output_type": "stream",
     "text": [
      "                                                           \r"
     ]
    },
    {
     "name": "stdout",
     "output_type": "stream",
     "text": [
      "Epoch 22/30 Time: 34.14s - \n",
      "Train Loss: 3.5813, Train Accuracy: 0.2611, Took 27.45s, \n",
      "Val Loss: 4.4311, Val Accuracy: 0.1835, Took 6.69s \n",
      "\n"
     ]
    },
    {
     "name": "stderr",
     "output_type": "stream",
     "text": [
      "                                                           \r"
     ]
    },
    {
     "name": "stdout",
     "output_type": "stream",
     "text": [
      "Epoch 23/30 Time: 33.06s - \n",
      "Train Loss: 3.5831, Train Accuracy: 0.2604, Took 26.46s, \n",
      "Val Loss: 4.4318, Val Accuracy: 0.1833, Took 6.60s \n",
      "\n"
     ]
    },
    {
     "name": "stderr",
     "output_type": "stream",
     "text": [
      "                                                           \r"
     ]
    },
    {
     "name": "stdout",
     "output_type": "stream",
     "text": [
      "Epoch 24/30 Time: 33.83s - \n",
      "Train Loss: 3.5771, Train Accuracy: 0.2620, Took 27.01s, \n",
      "Val Loss: 4.4313, Val Accuracy: 0.1839, Took 6.82s \n",
      "\n"
     ]
    },
    {
     "name": "stderr",
     "output_type": "stream",
     "text": [
      "                                                           \r"
     ]
    },
    {
     "name": "stdout",
     "output_type": "stream",
     "text": [
      "Epoch 25/30 Time: 32.96s - \n",
      "Train Loss: 3.5828, Train Accuracy: 0.2602, Took 26.54s, \n",
      "Val Loss: 4.4313, Val Accuracy: 0.1839, Took 6.41s \n",
      "\n"
     ]
    },
    {
     "name": "stderr",
     "output_type": "stream",
     "text": [
      "                                                           \r"
     ]
    },
    {
     "name": "stdout",
     "output_type": "stream",
     "text": [
      "Epoch 26/30 Time: 33.04s - \n",
      "Train Loss: 3.5775, Train Accuracy: 0.2598, Took 26.51s, \n",
      "Val Loss: 4.4314, Val Accuracy: 0.1836, Took 6.52s \n",
      "\n"
     ]
    },
    {
     "name": "stderr",
     "output_type": "stream",
     "text": [
      "                                                           \r"
     ]
    },
    {
     "name": "stdout",
     "output_type": "stream",
     "text": [
      "Epoch 27/30 Time: 33.69s - \n",
      "Train Loss: 3.5740, Train Accuracy: 0.2646, Took 27.31s, \n",
      "Val Loss: 4.4318, Val Accuracy: 0.1841, Took 6.38s \n",
      "\n"
     ]
    },
    {
     "name": "stderr",
     "output_type": "stream",
     "text": [
      "                                                           \r"
     ]
    },
    {
     "name": "stdout",
     "output_type": "stream",
     "text": [
      "Epoch 28/30 Time: 34.55s - \n",
      "Train Loss: 3.5597, Train Accuracy: 0.2635, Took 27.83s, \n",
      "Val Loss: 4.4322, Val Accuracy: 0.1842, Took 6.72s \n",
      "\n"
     ]
    },
    {
     "name": "stderr",
     "output_type": "stream",
     "text": [
      "                                                           \r"
     ]
    },
    {
     "name": "stdout",
     "output_type": "stream",
     "text": [
      "Epoch 29/30 Time: 33.18s - \n",
      "Train Loss: 3.5695, Train Accuracy: 0.2633, Took 26.86s, \n",
      "Val Loss: 4.4328, Val Accuracy: 0.1842, Took 6.32s \n",
      "\n"
     ]
    },
    {
     "name": "stderr",
     "output_type": "stream",
     "text": [
      "                                                           "
     ]
    },
    {
     "name": "stdout",
     "output_type": "stream",
     "text": [
      "Epoch 30/30 Time: 33.26s - \n",
      "Train Loss: 3.5664, Train Accuracy: 0.2633, Took 26.70s, \n",
      "Val Loss: 4.4327, Val Accuracy: 0.1841, Took 6.56s \n",
      "\n",
      "Training Complete!\n"
     ]
    },
    {
     "name": "stderr",
     "output_type": "stream",
     "text": [
      "\r"
     ]
    }
   ],
   "source": [
    "NUM_EPOCHS = 30\n",
    "MODEL_NAME = 'alexnet_pft'\n",
    "\n",
    "train_losses = []\n",
    "train_accuracies = []\n",
    "eval_losses = []\n",
    "eval_accuracies = []\n",
    "\n",
    "\n",
    "for epoch in range(NUM_EPOCHS):\n",
    "    start_time = time.time()\n",
    "\n",
    "    train_loss, train_accuracy = train(model, \n",
    "        loader=train_loader, \n",
    "        criterion=criterion, \n",
    "        optimizer=optimizer,\n",
    "        device=device,\n",
    "        model_name=MODEL_NAME)\n",
    "\n",
    "    train_time = time.time()\n",
    "\n",
    "    eval_loss, eval_accuracy = evaluate(model, \n",
    "                                        loader=val_loader, \n",
    "                                        device=device,\n",
    "                                        criterion=criterion)\n",
    "    \n",
    "    scheduler.step(eval_loss)\n",
    "    \n",
    "    eval_time = time.time()\n",
    "    \n",
    "    print(f\"Epoch {epoch+1}/{NUM_EPOCHS} Time: {(eval_time-start_time):.2f}s - \\n\"\n",
    "          f\"Train Loss: {train_loss:.4f}, Train Accuracy: {train_accuracy:.4f}, Took {(train_time-start_time):.2f}s, \\n\"\n",
    "          f\"Val Loss: {eval_loss:.4f}, Val Accuracy: {eval_accuracy:.4f}, Took {(eval_time-train_time):.2f}s \\n\")\n",
    "\n",
    "    train_losses.append(train_loss)\n",
    "    train_accuracies.append(train_accuracy)\n",
    "    eval_losses.append(eval_loss)\n",
    "    eval_accuracies.append(eval_accuracy)\n",
    "\n",
    "print(\"Training Complete!\")"
   ]
  },
  {
   "cell_type": "code",
   "execution_count": 8,
   "metadata": {},
   "outputs": [
    {
     "data": {
      "image/png": "[encoded data removed]",
      "text/plain": [
       "<Figure size 1500x500 with 2 Axes>"
      ]
     },
     "metadata": {},
     "output_type": "display_data"
    }
   ],
   "source": [
    "plot_training_curves(\n",
    "    (train_losses, train_accuracies),\n",
    "    (eval_losses, eval_accuracies),\n",
    ")"
   ]
  },
  {
   "cell_type": "markdown",
   "metadata": {},
   "source": [
    "# Evaluation metrics"
   ]
  },
  {
   "cell_type": "code",
   "execution_count": 9,
   "metadata": {},
   "outputs": [
    {
     "name": "stdout",
     "output_type": "stream",
     "text": [
      "Loaded best model from alexnet_pft.pth\n"
     ]
    },
    {
     "name": "stderr",
     "output_type": "stream",
     "text": [
      "                                                           "
     ]
    },
    {
     "name": "stdout",
     "output_type": "stream",
     "text": [
      "Best model - Validation Loss: 4.4327, Validation Accuracy: 0.1836\n"
     ]
    },
    {
     "name": "stderr",
     "output_type": "stream",
     "text": [
      "\r"
     ]
    }
   ],
   "source": [
    "# Load the best model weights\n",
    "best_model_path = f\"{MODEL_NAME}.pth\"\n",
    "\n",
    "# Load the saved model weights\n",
    "model.load_state_dict(torch.load(best_model_path))\n",
    "model.eval()  # Set the model to evaluation mode\n",
    "print(f\"Loaded best model from {best_model_path}\")\n",
    "\n",
    "# Evaluate the loaded model\n",
    "val_loss, val_accuracy = evaluate(model, val_loader, criterion, device=device)\n",
    "print(f\"Best model - Validation Loss: {val_loss:.4f}, Validation Accuracy: {val_accuracy:.4f}\")"
   ]
  },
  {
   "cell_type": "code",
   "execution_count": 10,
   "metadata": {},
   "outputs": [
    {
     "name": "stderr",
     "output_type": "stream",
     "text": [
      "                                                                 "
     ]
    },
    {
     "name": "stdout",
     "output_type": "stream",
     "text": [
      "Colormap: stacked, Top-1 Accuracy: 0.1805, Top-5 Accuracy: 0.3641\n"
     ]
    },
    {
     "name": "stderr",
     "output_type": "stream",
     "text": [
      "\r"
     ]
    }
   ],
   "source": [
    "top_1 = evaluate_topk(model, val_loader, k=1, device=device)\n",
    "top_5 = evaluate_topk(model, val_loader, k=5, device=device)\n",
    "\n",
    "print(f\"Colormap: {COLOR_MAP}, Top-1 Accuracy: {top_1:.4f}, Top-5 Accuracy: {top_5:.4f}\")"
   ]
  }
 ],
 "metadata": {
  "accelerator": "GPU",
  "colab": {
   "gpuType": "T4",
   "provenance": []
  },
  "kernelspec": {
   "display_name": "vcs-2425",
   "language": "python",
   "name": "python3"
  },
  "language_info": {
   "codemirror_mode": {
    "name": "ipython",
    "version": 3
   },
   "file_extension": ".py",
   "mimetype": "text/x-python",
   "name": "python",
   "nbconvert_exporter": "python",
   "pygments_lexer": "ipython3",
   "version": "3.11.12"
  }
 },
 "nbformat": 4,
 "nbformat_minor": 0
}
