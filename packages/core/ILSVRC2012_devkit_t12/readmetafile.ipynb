{
 "cells": [
  {
   "cell_type": "code",
   "execution_count": 13,
   "id": "afe851eb",
   "metadata": {},
   "outputs": [],
   "source": [
    "from scipy.io import loadmat\n",
    "\n",
    "# Load the .mat file\n",
    "data = loadmat('meta.mat')"
   ]
  },
  {
   "cell_type": "code",
   "execution_count": 14,
   "id": "0ba8d715",
   "metadata": {},
   "outputs": [
    {
     "data": {
      "text/plain": [
       "{'ILSVRC2012_ID': np.uint8(1),\n",
       " 'WNID': np.str_('n02119789'),\n",
       " 'words': np.str_('kit fox, Vulpes macrotis'),\n",
       " 'gloss': np.str_('small grey fox of southwestern United States; may be a subspecies of Vulpes velox'),\n",
       " 'num_children': np.uint8(0),\n",
       " 'children': array([], dtype=uint8),\n",
       " 'wordnet_height': np.uint8(0),\n",
       " 'num_train_images': np.uint16(1300)}"
      ]
     },
     "execution_count": 14,
     "metadata": {},
     "output_type": "execute_result"
    }
   ],
   "source": [
    "synset_list = []\n",
    "\n",
    "for synset in data['synsets']:\n",
    "    synset_entry = synset[0]\n",
    "\n",
    "    synset_list.append({\n",
    "        'ILSVRC2012_ID': synset_entry[\"ILSVRC2012_ID\"][0][0],\n",
    "        'WNID': synset_entry[\"WNID\"][0],\n",
    "        'words': synset_entry[\"words\"][0],\n",
    "        'gloss': synset_entry[\"gloss\"][0],\n",
    "        'num_children': synset_entry[\"num_children\"][0][0],\n",
    "        'children': synset_entry[\"children\"][0],\n",
    "        'wordnet_height': synset_entry[\"wordnet_height\"][0][0],\n",
    "        'num_train_images': synset_entry[\"num_train_images\"][0][0]\n",
    "    })\n",
    "    \n",
    "synset_list[0]"
   ]
  },
  {
   "cell_type": "code",
   "execution_count": 15,
   "id": "c0709a81",
   "metadata": {},
   "outputs": [],
   "source": [
    "def synset_from_WNID(WNID):\n",
    "    for synset in synset_list:\n",
    "        if synset['WNID'] == WNID:\n",
    "            return synset\n",
    "    return None\n",
    "def synset_from_ILSVRC2012_ID(ILSVRC2012_ID):\n",
    "    for synset in synset_list:\n",
    "        if synset['ILSVRC2012_ID'] == ILSVRC2012_ID:\n",
    "            return synset\n",
    "    return None"
   ]
  },
  {
   "cell_type": "code",
   "execution_count": 16,
   "id": "3badc42f",
   "metadata": {},
   "outputs": [],
   "source": [
    "ILSVRC2012_ID_map = {synset['ILSVRC2012_ID']: synset for synset in synset_list}"
   ]
  },
  {
   "cell_type": "code",
   "execution_count": 17,
   "id": "e200f7f7",
   "metadata": {},
   "outputs": [],
   "source": [
    "WNID_map = {synset['WNID']: synset for synset in synset_list}"
   ]
  },
  {
   "cell_type": "code",
   "execution_count": 18,
   "id": "e58b7abc",
   "metadata": {},
   "outputs": [
    {
     "data": {
      "text/plain": [
       "{'ILSVRC2012_ID': np.uint16(889),\n",
       " 'WNID': np.str_('n15075141'),\n",
       " 'words': np.str_('toilet tissue, toilet paper, bathroom tissue'),\n",
       " 'gloss': np.str_('a soft thin absorbent paper for use in toilets'),\n",
       " 'num_children': np.uint8(0),\n",
       " 'children': array([], dtype=uint8),\n",
       " 'wordnet_height': np.uint8(1),\n",
       " 'num_train_images': np.uint16(1300)}"
      ]
     },
     "execution_count": 18,
     "metadata": {},
     "output_type": "execute_result"
    }
   ],
   "source": [
    "ILSVRC2012_ID_map[889] # toilet paper synset"
   ]
  },
  {
   "cell_type": "code",
   "execution_count": 19,
   "id": "d0fc2825",
   "metadata": {},
   "outputs": [
    {
     "data": {
      "text/plain": [
       "{'ILSVRC2012_ID': np.uint16(889),\n",
       " 'WNID': np.str_('n15075141'),\n",
       " 'words': np.str_('toilet tissue, toilet paper, bathroom tissue'),\n",
       " 'gloss': np.str_('a soft thin absorbent paper for use in toilets'),\n",
       " 'num_children': np.uint8(0),\n",
       " 'children': array([], dtype=uint8),\n",
       " 'wordnet_height': np.uint8(1),\n",
       " 'num_train_images': np.uint16(1300)}"
      ]
     },
     "execution_count": 19,
     "metadata": {},
     "output_type": "execute_result"
    }
   ],
   "source": [
    "WNID_map['n15075141']"
   ]
  },
  {
   "cell_type": "code",
   "execution_count": 20,
   "id": "763e880f",
   "metadata": {},
   "outputs": [],
   "source": [
    "# Load the file into a list (index 0 is the image 00000001 !!!)\n",
    "with open('ILSVRC2012_validation_ground_truth.txt', 'r') as file:\n",
    "    ground_truth_list = [int(line.strip()) for line in file]"
   ]
  },
  {
   "cell_type": "code",
   "execution_count": 21,
   "id": "5b76f48d",
   "metadata": {},
   "outputs": [],
   "source": [
    "ground_truth_labels = [ILSVRC2012_ID_map[ILSVRC2012_ID][\"WNID\"] for ILSVRC2012_ID in ground_truth_list]"
   ]
  }
 ],
 "metadata": {
  "kernelspec": {
   "display_name": "vcs-2425",
   "language": "python",
   "name": "python3"
  },
  "language_info": {
   "codemirror_mode": {
    "name": "ipython",
    "version": 3
   },
   "file_extension": ".py",
   "mimetype": "text/x-python",
   "name": "python",
   "nbconvert_exporter": "python",
   "pygments_lexer": "ipython3",
   "version": "3.11.12"
  }
 },
 "nbformat": 4,
 "nbformat_minor": 5
}
